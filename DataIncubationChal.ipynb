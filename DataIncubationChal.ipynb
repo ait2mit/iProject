{
 "metadata": {
  "name": "",
  "signature": "sha256:17bf87bfaadeafb3e27a69ceb9e893a837c4d73f24402ca072b8173d48c7552c"
 },
 "nbformat": 3,
 "nbformat_minor": 0,
 "worksheets": [
  {
   "cells": [
    {
     "cell_type": "markdown",
     "metadata": {},
     "source": [
      "Q1"
     ]
    },
    {
     "cell_type": "code",
     "collapsed": false,
     "input": [
      "import scipy.stats\n",
      "import math\n",
      "# It can be explain in Binomial Distribution\n",
      "\n",
      "\n",
      "#Q1a\n",
      "tr1=range(3,11)\n",
      "b3_10= math.fsum(scipy.stats.binom.pmf(tr1,10,0.25))\n",
      "print 'What is the probability that the tourist is at least 3 city blocks\\\n",
      "(as the crow flies) from Broadway and Broadway after 10 moves? :',b3_10\n",
      "\n",
      "\n",
      "#Q1b\n",
      "tr2=range(10,61)\n",
      "b10_60= math.fsum(scipy.stats.binom.pmf(tr2,60,0.25))\n",
      "print 'What is the probability that the tourist is at least 10 city blocks (as the crow flies) from \\\n",
      "Broadway and Broadway after 60 moves?:',b10_60\n",
      "\n",
      "\n",
      "\n",
      "#Q1c Ever 5 blocks\n",
      "tr3=[5]\n",
      "b5_10= math.fsum(scipy.stats.binom.pmf(tr3,10,0.25))\n",
      "print 'What is the probability that the tourist is ever at least 5 city blocks (as the crow flies) from\\\n",
      "Broadway and Broadway within 10 moves?',b5_10\n",
      "\n",
      "\n",
      "#Q1d Ever 10 blocks\n",
      "tr4=[10]\n",
      "b10e_60= math.fsum(scipy.stats.binom.pmf(tr4,60,0.25))\n",
      "print 'What is the probability that the tourist is ever at least 10 city blocks (as the crow flies) from \\\n",
      "Broadway and Broadway within 60 moves?:',b10e_60\n",
      "\n",
      "\n",
      "\n",
      "#Q1e \n",
      "\n",
      "q1e= scipy.stats.binom.pmf(1,10,0.25)*scipy.stats.binom.pmf(2,10,0.25)\n",
      "print 'What is the probability that the tourist is ever east of East 1st Avenue but ends up west of West 1st \\\n",
      "Avenue in 10 moves?',q1e\n",
      "\n",
      "#Q1f \n",
      "\n",
      "q1f= scipy.stats.binom.pmf(1,30,0.25)*scipy.stats.binom.pmf(2,30,0.25)\n",
      "print 'What is the probability that the tourist is ever east of East 1st Avenue but ends up west of West 1st \\\n",
      "Avenue in 30 moves?:',q1f\n"
     ],
     "language": "python",
     "metadata": {},
     "outputs": [
      {
       "output_type": "stream",
       "stream": "stdout",
       "text": [
        "What is the probability that the tourist is at least 3 city blocks(as the crow flies) from Broadway and Broadway after 10 moves? : 0.474407196045\n",
        "What is the probability that the tourist is at least 10 city blocks (as the crow flies) from Broadway and Broadway after 60 moves?: 0.954832518508\n",
        "What is the probability that the tourist is ever at least 5 city blocks (as the crow flies) fromBroadway and Broadway within 10 moves? 0.0583992004395\n",
        "What is the probability that the tourist is ever at least 10 city blocks (as the crow flies) from Broadway and Broadway within 60 moves?: 0.0407192903289\n",
        "What is the probability that the tourist is ever east of East 1st Avenue but ends up west of West 1st Avenue in 10 moves? 0.0528535323156\n",
        "What is the probability that the tourist is ever east of East 1st Avenue but ends up west of West 1st Avenue in 30 moves?: 1.54142554159e-05\n"
       ]
      }
     ],
     "prompt_number": 125
    },
    {
     "cell_type": "code",
     "collapsed": false,
     "input": [
      "rn=range(1,11)\n",
      "p=0.25\n",
      "g1= math.fsum(geom.pmf(rn, p))\n",
      "xg=1+(math.log(g1/p))/(math.log(1-p))"
     ],
     "language": "python",
     "metadata": {},
     "outputs": [],
     "prompt_number": 120
    },
    {
     "cell_type": "code",
     "collapsed": false,
     "input": [
      "xg"
     ],
     "language": "python",
     "metadata": {},
     "outputs": [
      {
       "metadata": {},
       "output_type": "pyout",
       "prompt_number": 121,
       "text": [
        "-3.6173648179083333"
       ]
      }
     ],
     "prompt_number": 121
    },
    {
     "cell_type": "code",
     "collapsed": false,
     "input": [
      "#Q1g \n",
      "#(1-p)**x-1*p=g1\n",
      "xg=1+(math.log(g1/p))/(math.log(1-p))\n",
      "\n",
      "print 'What is the average number of moves until the first time the tourist is\\\n",
      "at least 10 city blocks (as the crow flies) from Broadway and Broadway',xg\n"
     ],
     "language": "python",
     "metadata": {},
     "outputs": [
      {
       "output_type": "stream",
       "stream": "stdout",
       "text": [
        "What is the average number of moves until the first time the tourist isat least 10 city blocks (as the crow flies) from Broadway and Broadway -3.61736481791\n"
       ]
      }
     ],
     "prompt_number": 119
    },
    {
     "cell_type": "code",
     "collapsed": false,
     "input": [
      "math.log(0.75)"
     ],
     "language": "python",
     "metadata": {},
     "outputs": [
      {
       "metadata": {},
       "output_type": "pyout",
       "prompt_number": 122,
       "text": [
        "-0.2876820724517809"
       ]
      }
     ],
     "prompt_number": 122
    },
    {
     "cell_type": "code",
     "collapsed": false,
     "input": [],
     "language": "python",
     "metadata": {},
     "outputs": [
      {
       "metadata": {},
       "output_type": "pyout",
       "prompt_number": 128,
       "text": [
        "196608.0"
       ]
      }
     ],
     "prompt_number": 128
    },
    {
     "cell_type": "code",
     "collapsed": false,
     "input": [
      "g1"
     ],
     "language": "python",
     "metadata": {},
     "outputs": [
      {
       "metadata": {},
       "output_type": "pyout",
       "prompt_number": 124,
       "text": [
        "0.9436864852905273"
       ]
      }
     ],
     "prompt_number": 124
    },
    {
     "cell_type": "code",
     "collapsed": false,
     "input": [],
     "language": "python",
     "metadata": {},
     "outputs": []
    }
   ],
   "metadata": {}
  }
 ]
}