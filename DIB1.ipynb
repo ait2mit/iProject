{
 "metadata": {
  "name": "",
  "signature": "sha256:9355bfa74d51ff15dc9f8fdc5f1b4b9649e70096578a102ecf458a3a5e2b543c"
 },
 "nbformat": 3,
 "nbformat_minor": 0,
 "worksheets": [
  {
   "cells": [
    {
     "cell_type": "code",
     "collapsed": false,
     "input": [
      "import requests\n",
      "api_url = 'https://www.quandl.com/api/v1/datasets/WIKI/%s.json % stock'\n",
      "session = requests.Session()\n",
      "session.mount('http://', requests.adapters.HTTPAdapter(max_retries=3))\n",
      "raw_data = session.get(api_url)"
     ],
     "language": "python",
     "metadata": {},
     "outputs": [
      {
       "output_type": "stream",
       "stream": "stderr",
       "text": [
        "C:\\Anaconda\\lib\\site-packages\\requests\\packages\\urllib3\\util\\ssl_.py:79: InsecurePlatformWarning: A true SSLContext object is not available. This prevents urllib3 from configuring SSL appropriately and may cause certain SSL connections to fail. For more information, see https://urllib3.readthedocs.org/en/latest/security.html#insecureplatformwarning.\n",
        "  InsecurePlatformWarning\n"
       ]
      }
     ],
     "prompt_number": 5
    },
    {
     "cell_type": "code",
     "collapsed": false,
     "input": [
      "print raw_data"
     ],
     "language": "python",
     "metadata": {},
     "outputs": [
      {
       "output_type": "stream",
       "stream": "stdout",
       "text": [
        "<Response [400]>\n"
       ]
      }
     ],
     "prompt_number": 6
    },
    {
     "cell_type": "code",
     "collapsed": false,
     "input": [
      "import numpy as np\n",
      "x=np.random.randn(10000)\n",
      "y=np.random.randn(10000)"
     ],
     "language": "python",
     "metadata": {},
     "outputs": [],
     "prompt_number": 8
    },
    {
     "cell_type": "code",
     "collapsed": false,
     "input": [
      "for i in xrange(len(x)):\n",
      "    z=x[i]*y[i]\n",
      "print z"
     ],
     "language": "python",
     "metadata": {},
     "outputs": [
      {
       "output_type": "stream",
       "stream": "stdout",
       "text": [
        "-1.12328777782\n"
       ]
      }
     ],
     "prompt_number": 17
    },
    {
     "cell_type": "code",
     "collapsed": false,
     "input": [
      "t=np.dot(x,y)\n",
      "print t"
     ],
     "language": "python",
     "metadata": {},
     "outputs": [
      {
       "output_type": "stream",
       "stream": "stdout",
       "text": [
        "80.292671398\n"
       ]
      }
     ],
     "prompt_number": 19
    },
    {
     "cell_type": "code",
     "collapsed": false,
     "input": [
      "print x"
     ],
     "language": "python",
     "metadata": {},
     "outputs": [
      {
       "output_type": "stream",
       "stream": "stdout",
       "text": [
        "[ 0.03601559 -1.01555192 -1.16108161 ..., -0.07257825 -0.09236852\n",
        " -0.7428456 ]\n"
       ]
      }
     ],
     "prompt_number": 20
    },
    {
     "cell_type": "code",
     "collapsed": false,
     "input": [
      "x = np.random.randn(1000000)\n",
      "y = np.random.randn(1000000)\n",
      "\n",
      "#z1 = [x[i] * y[i] for i in xrange(len(x))]  # Seconds elapsed: 0.60205\n",
      "#z2 = np.dot(x, y)  # Seconds elapsed: 0.001251\n",
      "#Z2=-261.840771833"
     ],
     "language": "python",
     "metadata": {},
     "outputs": [],
     "prompt_number": 30
    },
    {
     "cell_type": "code",
     "collapsed": false,
     "input": [
      "print z2"
     ],
     "language": "python",
     "metadata": {},
     "outputs": [
      {
       "output_type": "stream",
       "stream": "stdout",
       "text": [
        "-261.840771833\n"
       ]
      }
     ],
     "prompt_number": 31
    },
    {
     "cell_type": "code",
     "collapsed": false,
     "input": [
      "for i in xrange(len(x)):\n",
      "    z=x[i]*y[i]\n",
      "print z"
     ],
     "language": "python",
     "metadata": {},
     "outputs": [
      {
       "output_type": "stream",
       "stream": "stdout",
       "text": [
        "-0.380746101168\n"
       ]
      }
     ],
     "prompt_number": 32
    },
    {
     "cell_type": "code",
     "collapsed": false,
     "input": [
      "M = np.matrix([[1, 1], [1, 0]])\n"
     ],
     "language": "python",
     "metadata": {},
     "outputs": [],
     "prompt_number": 33
    },
    {
     "cell_type": "code",
     "collapsed": false,
     "input": [
      "print M"
     ],
     "language": "python",
     "metadata": {},
     "outputs": [
      {
       "output_type": "stream",
       "stream": "stdout",
       "text": [
        "[[1 1]\n",
        " [1 0]]\n"
       ]
      }
     ],
     "prompt_number": 34
    },
    {
     "cell_type": "code",
     "collapsed": false,
     "input": [
      "MProd = M.copy()"
     ],
     "language": "python",
     "metadata": {},
     "outputs": [],
     "prompt_number": 38
    },
    {
     "cell_type": "code",
     "collapsed": false,
     "input": [
      "print MProd"
     ],
     "language": "python",
     "metadata": {},
     "outputs": [
      {
       "output_type": "stream",
       "stream": "stdout",
       "text": [
        "[[1 1]\n",
        " [1 0]]\n"
       ]
      }
     ],
     "prompt_number": 39
    },
    {
     "cell_type": "code",
     "collapsed": false,
     "input": [
      "def teb(n):\n",
      "    if n<2:\n",
      "        return 1\n",
      "    else:\n",
      "        return teb(n-1)+teb(n-2)"
     ],
     "language": "python",
     "metadata": {},
     "outputs": [],
     "prompt_number": 49
    },
    {
     "cell_type": "code",
     "collapsed": false,
     "input": [
      "print teb(9)"
     ],
     "language": "python",
     "metadata": {},
     "outputs": [
      {
       "output_type": "stream",
       "stream": "stdout",
       "text": [
        "55\n"
       ]
      }
     ],
     "prompt_number": 48
    },
    {
     "cell_type": "code",
     "collapsed": false,
     "input": [
      "import sqlite3\n",
      "con=sqlite3.connect(\"company.db\")"
     ],
     "language": "python",
     "metadata": {},
     "outputs": [],
     "prompt_number": 53
    },
    {
     "cell_type": "code",
     "collapsed": false,
     "input": [
      "sql_command = \"\"\"\n",
      "CREATE TABLE employee ( \n",
      "staff_number INTEGER PRIMARY KEY, \n",
      "fname VARCHAR(20), \n",
      "lname VARCHAR(30), \n",
      "gender CHAR(1), \n",
      "joining DATE,\n",
      "birth_date DATE);\"\"\""
     ],
     "language": "python",
     "metadata": {},
     "outputs": [],
     "prompt_number": 59
    },
    {
     "cell_type": "code",
     "collapsed": false,
     "input": [
      "!pip install python-MySQLdb"
     ],
     "language": "python",
     "metadata": {},
     "outputs": [
      {
       "output_type": "stream",
       "stream": "stdout",
       "text": [
        "Downloading/unpacking python-MySQLdb\n",
        "  Could not find any downloads that satisfy the requirement python-MySQLdb\n",
        "Cleaning up...\n",
        "No distributions at all found for python-MySQLdb\n",
        "Storing debug log for failure in C:\\Users\\MohammadShafiqul\\pip\\pip.log\n"
       ]
      }
     ],
     "prompt_number": 61
    },
    {
     "cell_type": "code",
     "collapsed": false,
     "input": [
      "import MySQLdb"
     ],
     "language": "python",
     "metadata": {},
     "outputs": [
      {
       "ename": "ImportError",
       "evalue": "No module named MySQLdb",
       "output_type": "pyerr",
       "traceback": [
        "\u001b[1;31m---------------------------------------------------------------------------\u001b[0m\n\u001b[1;31mImportError\u001b[0m                               Traceback (most recent call last)",
        "\u001b[1;32m<ipython-input-62-dd22983d5391>\u001b[0m in \u001b[0;36m<module>\u001b[1;34m()\u001b[0m\n\u001b[1;32m----> 1\u001b[1;33m \u001b[1;32mimport\u001b[0m \u001b[0mMySQLdb\u001b[0m\u001b[1;33m\u001b[0m\u001b[0m\n\u001b[0m",
        "\u001b[1;31mImportError\u001b[0m: No module named MySQLdb"
       ]
      }
     ],
     "prompt_number": 62
    },
    {
     "cell_type": "code",
     "collapsed": false,
     "input": [
      "import sys"
     ],
     "language": "python",
     "metadata": {},
     "outputs": [],
     "prompt_number": 63
    },
    {
     "cell_type": "code",
     "collapsed": false,
     "input": [
      "print sys.argv"
     ],
     "language": "python",
     "metadata": {},
     "outputs": [
      {
       "output_type": "stream",
       "stream": "stdout",
       "text": [
        "['-c', '-f', 'C:\\\\Users\\\\MohammadShafiqul\\\\.ipython\\\\profile_default\\\\security\\\\kernel-0030aec9-9412-401a-8498-a68983c87942.json', \"--IPKernelApp.parent_appname='ipython-notebook'\", '--profile-dir', 'C:\\\\Users\\\\MohammadShafiqul\\\\.ipython\\\\profile_default', '--interrupt=1016', '--parent=1144']\n"
       ]
      }
     ],
     "prompt_number": 64
    },
    {
     "cell_type": "code",
     "collapsed": false,
     "input": [
      "!pip install Scrapy"
     ],
     "language": "python",
     "metadata": {},
     "outputs": [
      {
       "output_type": "stream",
       "stream": "stdout",
       "text": [
        "Downloading/unpacking Scrapy\n",
        "Requirement already satisfied (use --upgrade to upgrade): pyOpenSSL in c:\\anaconda\\lib\\site-packages (from Scrapy)\n",
        "Requirement already satisfied (use --upgrade to upgrade): six>=1.5.2 in c:\\anaconda\\lib\\site-packages (from Scrapy)\n",
        "Downloading/unpacking queuelib (from Scrapy)\n",
        "  Downloading queuelib-1.4.2-py2.py3-none-any.whl\n",
        "Downloading/unpacking service-identity (from Scrapy)\n",
        "  Downloading service_identity-14.0.0-py2.py3-none-any.whl\n",
        "Requirement already satisfied (use --upgrade to upgrade): lxml in c:\\anaconda\\lib\\site-packages (from Scrapy)\n",
        "Downloading/unpacking w3lib>=1.8.0 (from Scrapy)\n",
        "  Downloading w3lib-1.12.0-py2.py3-none-any.whl\n",
        "Downloading/unpacking cssselect>=0.9 (from Scrapy)\n",
        "  Downloading cssselect-0.9.1.tar.gz\n",
        "  Running setup.py (path:c:\\users\\mohamm~1\\appdata\\local\\temp\\pip_build_MohammadShafiqul\\cssselect\\setup.py) egg_info for package cssselect\n",
        "    \n",
        "    no previously-included directories found matching 'docs\\_build'\n",
        "Downloading/unpacking Twisted>=10.0.0 (from Scrapy)\n",
        "Downloading/unpacking pyasn1 (from service-identity->Scrapy)\n",
        "  Downloading pyasn1-0.1.9-py2.py3-none-any.whl\n",
        "Downloading/unpacking pyasn1-modules (from service-identity->Scrapy)\n",
        "  Downloading pyasn1_modules-0.0.8-py2.py3-none-any.whl\n",
        "Downloading/unpacking characteristic>=14.0.0 (from service-identity->Scrapy)\n",
        "  Downloading characteristic-14.3.0-py2.py3-none-any.whl\n",
        "Downloading/unpacking zope.interface>=3.6.0 (from Twisted>=10.0.0->Scrapy)\n",
        "  Running setup.py (path:c:\\users\\mohamm~1\\appdata\\local\\temp\\pip_build_MohammadShafiqul\\zope.interface\\setup.py) egg_info for package zope.interface\n",
        "    \n",
        "    warning: no previously-included files matching '*.dll' found anywhere in distribution\n",
        "    warning: no previously-included files matching '*.pyc' found anywhere in distribution\n",
        "    warning: no previously-included files matching '*.pyo' found anywhere in distribution\n",
        "    warning: no previously-included files matching '*.so' found anywhere in distribution\n",
        "    warning: no previously-included files matching 'coverage.xml' found anywhere in distribution\n",
        "    no previously-included directories found matching 'docs\\_build'\n",
        "Requirement already satisfied (use --upgrade to upgrade): setuptools in c:\\anaconda\\lib\\site-packages\\setuptools-5.8-py2.7.egg (from zope.interface>=3.6.0->Twisted>=10.0.0->Scrapy)\n",
        "Installing collected packages: Scrapy, queuelib, service-identity, w3lib, cssselect, Twisted, pyasn1, pyasn1-modules, characteristic, zope.interface\n",
        "  Running setup.py install for cssselect\n",
        "    \n",
        "    no previously-included directories found matching 'docs\\_build'\n",
        "  Running setup.py install for zope.interface\n",
        "    \n",
        "    warning: no previously-included files matching '*.dll' found anywhere in distribution\n",
        "    warning: no previously-included files matching '*.pyc' found anywhere in distribution\n",
        "    warning: no previously-included files matching '*.pyo' found anywhere in distribution\n",
        "    warning: no previously-included files matching '*.so' found anywhere in distribution\n",
        "    warning: no previously-included files matching 'coverage.xml' found anywhere in distribution\n",
        "    no previously-included directories found matching 'docs\\_build'\n",
        "    building 'zope.interface._zope_interface_coptimizations' extension\n",
        "    C:\\Anaconda\\Scripts\\gcc.bat -DMS_WIN64 -mdll -O -Wall -IC:\\Anaconda\\include -IC:\\Anaconda\\PC -c src\\zope\\interface\\_zope_interface_coptimizations.c -o build\\temp.win-amd64-2.7\\Release\\src\\zope\\interface\\_zope_interface_coptimizations.o\n",
        "    C:\\Anaconda\\Scripts\\gcc.bat -DMS_WIN64 -shared -s build\\temp.win-amd64-2.7\\Release\\src\\zope\\interface\\_zope_interface_coptimizations.o build\\temp.win-amd64-2.7\\Release\\src\\zope\\interface\\_zope_interface_coptimizations.def -LC:\\Anaconda\\libs -LC:\\Anaconda\\PCbuild\\amd64 -lpython27 -lmsvcr90 -o build\\lib.win-amd64-2.7\\zope\\interface\\_zope_interface_coptimizations.pyd\n",
        "    Skipping installation of C:\\Anaconda\\Lib\\site-packages\\zope\\__init__.py (namespace package)\n",
        "    Installing C:\\Anaconda\\Lib\\site-packages\\zope.interface-4.1.3-py2.7-nspkg.pth\n",
        "Successfully installed Scrapy queuelib service-identity w3lib cssselect Twisted pyasn1 pyasn1-modules characteristic zope.interface\n",
        "Cleaning up...\n"
       ]
      }
     ],
     "prompt_number": 65
    },
    {
     "cell_type": "code",
     "collapsed": false,
     "input": [
      "scrapy startproject apple"
     ],
     "language": "python",
     "metadata": {},
     "outputs": [
      {
       "ename": "SyntaxError",
       "evalue": "invalid syntax (<ipython-input-68-0c68237f8954>, line 1)",
       "output_type": "pyerr",
       "traceback": [
        "\u001b[1;36m  File \u001b[1;32m\"<ipython-input-68-0c68237f8954>\"\u001b[1;36m, line \u001b[1;32m1\u001b[0m\n\u001b[1;33m    scrapy startproject apple\u001b[0m\n\u001b[1;37m                      ^\u001b[0m\n\u001b[1;31mSyntaxError\u001b[0m\u001b[1;31m:\u001b[0m invalid syntax\n"
       ]
      }
     ],
     "prompt_number": 68
    },
    {
     "cell_type": "code",
     "collapsed": false,
     "input": [
      "!easy_install python-itunes"
     ],
     "language": "python",
     "metadata": {},
     "outputs": [
      {
       "output_type": "stream",
       "stream": "stdout",
       "text": [
        "Searching for python-itunes\n",
        "Best match: python-itunes 1.0\n",
        "Processing python_itunes-1.0-py2.7.egg\n",
        "python-itunes 1.0 is already the active version in easy-install.pth\n",
        "\n",
        "Using c:\\anaconda\\lib\\site-packages\\python_itunes-1.0-py2.7.egg\n",
        "Processing dependencies for python-itunes\n",
        "Finished processing dependencies for python-itunes\n"
       ]
      }
     ],
     "prompt_number": 79
    },
    {
     "cell_type": "code",
     "collapsed": false,
     "input": [
      "import python-itunes"
     ],
     "language": "python",
     "metadata": {},
     "outputs": [
      {
       "ename": "SyntaxError",
       "evalue": "invalid syntax (<ipython-input-81-c41aca33b7a2>, line 1)",
       "output_type": "pyerr",
       "traceback": [
        "\u001b[1;36m  File \u001b[1;32m\"<ipython-input-81-c41aca33b7a2>\"\u001b[1;36m, line \u001b[1;32m1\u001b[0m\n\u001b[1;33m    import python-itunes\u001b[0m\n\u001b[1;37m                 ^\u001b[0m\n\u001b[1;31mSyntaxError\u001b[0m\u001b[1;31m:\u001b[0m invalid syntax\n"
       ]
      }
     ],
     "prompt_number": 81
    },
    {
     "cell_type": "code",
     "collapsed": false,
     "input": [
      "2**38"
     ],
     "language": "python",
     "metadata": {},
     "outputs": [
      {
       "metadata": {},
       "output_type": "pyout",
       "prompt_number": 82,
       "text": [
        "274877906944L"
       ]
      }
     ],
     "prompt_number": 82
    },
    {
     "cell_type": "code",
     "collapsed": false,
     "input": [
      "import string\n",
      "\n",
      "\n",
      "original = \"g fmnc wms bgblr rpylqjyrc gr zw fylb. rfyrq ufyr amknsrcpq ypc \" \\\n",
      "    \"dmp. bmgle gr gl zw fylb gq glcddgagclr ylb rfyr'q ufw rfgq \" \\\n",
      "    \"rcvr gq qm jmle. sqgle qrpgle.kyicrpylq() gq pcamkkclbcb. lmu \" \\\n",
      "    \"ynnjw ml rfc spj.\"\n",
      "\n",
      "table = string.maketrans(\n",
      "    \"abcdefghijklmnopqrstuvwxyz\", \"cdefghijklmnopqrstuvwxyzab\"\n",
      ")\n",
      "\n",
      "print original.translate(table)"
     ],
     "language": "python",
     "metadata": {},
     "outputs": [
      {
       "ename": "SyntaxError",
       "evalue": "invalid syntax (<ipython-input-85-6269e4c1f9e8>, line 2)",
       "output_type": "pyerr",
       "traceback": [
        "\u001b[1;36m  File \u001b[1;32m\"<ipython-input-85-6269e4c1f9e8>\"\u001b[1;36m, line \u001b[1;32m2\u001b[0m\n\u001b[1;33m    from string inport maketrans\u001b[0m\n\u001b[1;37m                     ^\u001b[0m\n\u001b[1;31mSyntaxError\u001b[0m\u001b[1;31m:\u001b[0m invalid syntax\n"
       ]
      }
     ],
     "prompt_number": 85
    },
    {
     "cell_type": "code",
     "collapsed": false,
     "input": [
      "from string import maketrans\n",
      "intab=maketrans(\"abcdefghijklmnopqrstuvwxyz\", \"cdefghijklmnopqrstuvwxyzab\")\n",
      "print or\n"
     ],
     "language": "python",
     "metadata": {},
     "outputs": [],
     "prompt_number": 89
    },
    {
     "cell_type": "code",
     "collapsed": false,
     "input": [
      "from string import maketrans   # Required to call maketrans function.\n",
      "\n",
      "intab = \"aeiou\"\n",
      "outtab = \"12345\"\n",
      "trantab = maketrans(intab, outtab)\n",
      "\n",
      "str = \"this is string example....wow!!!\";\n",
      "print str.translate(trantab)"
     ],
     "language": "python",
     "metadata": {},
     "outputs": [
      {
       "output_type": "stream",
       "stream": "stdout",
       "text": [
        "th3s 3s str3ng 2x1mpl2....w4w!!!\n"
       ]
      }
     ],
     "prompt_number": 87
    },
    {
     "cell_type": "code",
     "collapsed": false,
     "input": [
      "ori = \"g fmnc wms bgblr rpylqjyrc gr zw fylb. rfyrq ufyr amknsrcpq ypc \" \\\n",
      "    \"dmp. bmgle gr gl zw fylb gq glcddgagclr ylb rfyr'q ufw rfgq \" \\\n",
      "    \"rcvr gq qm jmle. sqgle qrpgle.kyicrpylq() gq pcamkkclbcb. lmu \" \\\n",
      "    \"ynnjw ml rfc spj.\"\n",
      "pg=\"map\""
     ],
     "language": "python",
     "metadata": {},
     "outputs": [],
     "prompt_number": 93
    },
    {
     "cell_type": "code",
     "collapsed": false,
     "input": [
      "print ori.translate(intab)"
     ],
     "language": "python",
     "metadata": {},
     "outputs": [
      {
       "output_type": "stream",
       "stream": "stdout",
       "text": [
        "i hope you didnt translate it by hand. thats what computers are for. doing it in by hand is inefficient and that's why this text is so long. using string.maketrans() is recommended. now apply on the url.\n"
       ]
      }
     ],
     "prompt_number": 92
    },
    {
     "cell_type": "code",
     "collapsed": false,
     "input": [
      "print pg.translate(intab)"
     ],
     "language": "python",
     "metadata": {},
     "outputs": [
      {
       "output_type": "stream",
       "stream": "stdout",
       "text": [
        "ocr\n"
       ]
      }
     ],
     "prompt_number": 95
    },
    {
     "cell_type": "code",
     "collapsed": false,
     "input": [],
     "language": "python",
     "metadata": {},
     "outputs": []
    }
   ],
   "metadata": {}
  }
 ]
}